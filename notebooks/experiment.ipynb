{
 "cells": [
  {
   "cell_type": "code",
   "execution_count": null,
   "id": "2fc659be",
   "metadata": {},
   "outputs": [],
   "source": [
    "import json\n",
    "import torch\n",
    "\n",
    "# Load T5 model\n",
    "# Load model directly\n",
    "# Load model directly\n",
    "from transformers import AutoTokenizer, AutoModelForCausalLM\n",
    "\n",
    "tokenizer = AutoTokenizer.from_pretrained(\"Qwen/Qwen3-0.6B\")\n",
    "model = AutoModelForCausalLM.from_pretrained(\"Qwen/Qwen3-0.6B\")\n",
    "# Load one dialogue\n",
    "with open(\"../data/mw24/dev_dials.json\", \"r\", encoding=\"utf-8\") as f:\n",
    "    data = json.load(f)"
   ]
  },
  {
   "cell_type": "code",
   "execution_count": 76,
   "id": "b99a8d96",
   "metadata": {},
   "outputs": [],
   "source": [
    "# Pick a single turn from the first dialogue\n",
    "turns = data[2][\"dialogue\"]\n",
    "turn_idx = 3  # pick third turn (index 2)\n",
    "history = turns[:turn_idx + 1]"
   ]
  },
  {
   "cell_type": "code",
   "execution_count": 77,
   "id": "49fb1574",
   "metadata": {},
   "outputs": [
    {
     "data": {
      "text/plain": [
       "'You are a helpful assistant.\\n\\nHere is the conversation history:\\n\\nUser: what can you tell me about the riverside brasserie ?\\nSystem: it is a restaurant that serves modern european food near the centre of town . it is moderate -ly priced . the phone number is 01223259988 .\\nUser: perfect . can you help me with a reservation for 6 people at 14:30 this coming sunday ? and please make sure i have a confirmation number to use .\\nSystem: your reservation is set ! the table will be reserved for 15 minutes . your reference number is lzludtvi . is there anything else you need ?\\nUser: i am also looking for a place to stay . in the south preferably .\\nSystem: what price range were you thinking ?\\nUser: no particular price range , but i would like it to be a 4 star hotel .\\n\\nSummarize key information from the conversation as a JSON dictionary.\\n\\n {'"
      ]
     },
     "execution_count": 77,
     "metadata": {},
     "output_type": "execute_result"
    }
   ],
   "source": [
    "# Format history\n",
    "formatted_history = []\n",
    "\n",
    "prompt = \"You are a helpful assistant.\\n\\n\"\n",
    "prompt += \"Here is the conversation history:\\n\\n\"\n",
    "for t in history:\n",
    "    sys = t.get(\"system_transcript\", \"\").strip()\n",
    "    usr = t.get(\"transcript\", \"\").strip()\n",
    "    if sys:\n",
    "        formatted_history.append(f\"System: {sys}\")\n",
    "    if usr:\n",
    "        formatted_history.append(f\"User: {usr}\")\n",
    "prompt += \"\\n\".join(formatted_history)\n",
    "prompt += \"\"\"\\n\\nSummarize key information from the conversation as a JSON dictionary.\\n\\n {\"\"\"\n",
    "# prompt += \"\"\"Example:\\n{'train-leaveat': ..., 'train-destination': ..., 'train-day': ..., ...}\n",
    "# \"\"\"\n",
    "prompt"
   ]
  },
  {
   "cell_type": "code",
   "execution_count": 78,
   "id": "aa64f996",
   "metadata": {},
   "outputs": [
    {
     "name": "stdout",
     "output_type": "stream",
     "text": [
      "\n",
      "=== Content ===\n",
      "```json\n",
      "{\n",
      "  \"restaurant\": {\n",
      "    \"name\": \"riverside brasserie\",\n",
      "    \"location\": \"near the centre of town\",\n",
      "    \"type\": \"modern European food\",\n",
      "    \"price\": \"moderately priced\",\n",
      "    \"phone\": \"01223259988\"\n",
      "  },\n",
      "  \"reservation\": {\n",
      "    \"number_of_people\": 6,\n",
      "    \"time\": \"14:30\",\n",
      "    \"date\": \"sunday\",\n",
      "    \"table_time\": \"15 minutes\",\n",
      "    \"reference_number\": \"lzludtvi\"\n",
      "  },\n",
      "  \"hotel\": {\n",
      "    \"location\": \"south\",\n",
      "    \"price_range\": \"4-star\",\n",
      "    \"description\": \"a 4-star hotel in the south\"\n",
      "  }\n",
      "}\n",
      "```\n",
      "\n",
      "=== Gold ===\n",
      "{'restaurant-book day': 'sunday', 'restaurant-book people': '6', 'restaurant-book time': '14:30', 'restaurant-food': 'modern european', 'restaurant-pricerange': 'moderate', 'restaurant-name': 'riverside brasserie', 'restaurant-area': 'centre', 'hotel-area': 'south', 'hotel-stars': '4'}\n"
     ]
    }
   ],
   "source": [
    "messages = [\n",
    "    {\"role\": \"user\", \"content\": prompt}\n",
    "]\n",
    "text = tokenizer.apply_chat_template(\n",
    "    messages,\n",
    "    tokenize=False,\n",
    "    add_generation_prompt=True,\n",
    "    enable_thinking=True # Switches between thinking and non-thinking modes. Default is True.\n",
    ")\n",
    "model_inputs = tokenizer([text], return_tensors=\"pt\").to(model.device)\n",
    "\n",
    "# conduct text completion\n",
    "generated_ids = model.generate(\n",
    "    **model_inputs,\n",
    "    max_new_tokens=32768\n",
    ")\n",
    "output_ids = generated_ids[0][len(model_inputs.input_ids[0]):].tolist() \n",
    "\n",
    "# parsing thinking content\n",
    "try:\n",
    "    # rindex finding 151668 (</think>)\n",
    "    index = len(output_ids) - output_ids[::-1].index(151668)\n",
    "except ValueError:\n",
    "    index = 0\n",
    "\n",
    "thinking_content = tokenizer.decode(output_ids[:index], skip_special_tokens=True).strip(\"\\n\")\n",
    "content = tokenizer.decode(output_ids[index:], skip_special_tokens=True).strip(\"\\n\")\n",
    "\n",
    "# print(\"=== Prompt ===\")\n",
    "# print(prompt)\n",
    "# print(\"\\n=== Thinking content ===\")\n",
    "# print(thinking_content)\n",
    "print(\"\\n=== Content ===\")\n",
    "print(content)\n",
    "\n",
    "# Gold belief state\n",
    "gold = {}\n",
    "for slot_info in turns[turn_idx].get(\"belief_state\", []):\n",
    "    for slot, value in slot_info[\"slots\"]:\n",
    "        gold[slot] = value\n",
    "print(\"\\n=== Gold ===\")\n",
    "print(gold)\n",
    "\n"
   ]
  },
  {
   "cell_type": "code",
   "execution_count": null,
   "id": "670bea65",
   "metadata": {},
   "outputs": [],
   "source": []
  }
 ],
 "metadata": {
  "kernelspec": {
   "display_name": "dst",
   "language": "python",
   "name": "python3"
  },
  "language_info": {
   "codemirror_mode": {
    "name": "ipython",
    "version": 3
   },
   "file_extension": ".py",
   "mimetype": "text/x-python",
   "name": "python",
   "nbconvert_exporter": "python",
   "pygments_lexer": "ipython3",
   "version": "3.12.11"
  }
 },
 "nbformat": 4,
 "nbformat_minor": 5
}
